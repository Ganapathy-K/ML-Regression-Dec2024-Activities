{
 "cells": [
  {
   "cell_type": "code",
   "execution_count": 1,
   "id": "8f512016-7801-4de1-9544-720a6149e37c",
   "metadata": {},
   "outputs": [],
   "source": [
    "# Initialize necessary libraries\n",
    "import numpy as np\n",
    "import pandas as pd\n",
    "import matplotlib.pyplot as plt\n",
    "from scipy.stats import linregress"
   ]
  },
  {
   "cell_type": "markdown",
   "id": "6eed1e36-33cd-4eb8-8693-2bac393569f6",
   "metadata": {},
   "source": [
    "#### Quick exercise: \n",
    "###### o Create a dummy data\n",
    "###### o Calculate: slope, intercept, r-value, p-vlaue, standard error\n",
    "###### o Find predicted value based on input data: x"
   ]
  },
  {
   "cell_type": "code",
   "execution_count": 2,
   "id": "72d90f38-7e37-4747-a222-c0517894faea",
   "metadata": {},
   "outputs": [
    {
     "name": "stdout",
     "output_type": "stream",
     "text": [
      "X array: [ 34 108  64  88  99  51] \n",
      "Y array: [ 5. 17. 11.  8. 14.  5.]\n"
     ]
    }
   ],
   "source": [
    "# Dataset\n",
    "x = np.array([34, 108, 64, 88, 99, 51])\n",
    "y = np.array([5.00, 17.00, 11.00, 8.00, 14.00, 5.00])\n",
    "print('X array:', x, '\\nY array:', y)"
   ]
  },
  {
   "cell_type": "code",
   "execution_count": 3,
   "id": "db28d9e0-0649-41ff-a539-062c6ca77884",
   "metadata": {},
   "outputs": [
    {
     "name": "stdout",
     "output_type": "stream",
     "text": [
      "Slope: 0.14621968616262482 \n",
      "Intercept: -0.8202567760342365 \n",
      "R Value: 0.865664999629448 \n",
      "P Value: 0.02585674101078121 \n",
      "Standard Error: 0.04228023725471384\n"
     ]
    }
   ],
   "source": [
    "# Perform linear regression\n",
    "slope, intercept, r_value, p_value, std_err = linregress(x, y)\n",
    "print('Slope:', slope, '\\nIntercept:', intercept, '\\nR Value:', r_value, '\\nP Value:', p_value, '\\nStandard Error:', std_err)"
   ]
  },
  {
   "cell_type": "code",
   "execution_count": 4,
   "id": "f6982dac-36d3-4ebf-8b15-56689a6718de",
   "metadata": {},
   "outputs": [
    {
     "name": "stdout",
     "output_type": "stream",
     "text": [
      "Predicted values: [ 4.15121255 14.97146933  8.53780314 12.04707561 13.65549215  6.63694722]\n"
     ]
    }
   ],
   "source": [
    "# Calculate the predicted y values\n",
    "predicted_y = slope * x + intercept\n",
    "print('Predicted values:', predicted_y)"
   ]
  },
  {
   "cell_type": "code",
   "execution_count": 5,
   "id": "0ce68f4b-8e16-413a-851a-f1b4898651cc",
   "metadata": {},
   "outputs": [
    {
     "name": "stdout",
     "output_type": "stream",
     "text": [
      "Y Mean: 10.0 \n",
      "Sum of squares total: 120.0 \n",
      "Sum of squares regression: 89.92510699001427 \n",
      "Sum of squares error: 30.074893009985736\n"
     ]
    }
   ],
   "source": [
    "# Calculate SST, SSR, and SSE\n",
    "y_mean = np.mean(y)\n",
    "sst = np.sum((y - y_mean) ** 2)\n",
    "ssr = np.sum((predicted_y - y_mean) ** 2)\n",
    "sse = np.sum((y - predicted_y) ** 2)\n",
    "print('Y Mean:', y_mean, '\\nSum of squares total:', sst, '\\nSum of squares regression:', ssr, '\\nSum of squares error:', sse)"
   ]
  },
  {
   "cell_type": "markdown",
   "id": "3e96e9e7-3380-4269-bb43-9a66384deae5",
   "metadata": {},
   "source": [
    "### Day 1 Hands on Exercise:\n",
    "##### Lab Problem: Linear Regression Model Analysis\n",
    "##### Objective:\n",
    "##### > Design a simple linear regression model to analyze the relationship b/w Annual Income (k$) and Spending Score (1-100) using the linregress() method. \n",
    "##### > Compute and interpret the slope, intercept, coefficient of determination (R-value), p-value, and standard error of the regression model."
   ]
  },
  {
   "cell_type": "raw",
   "id": "6d434a16-72ed-4dfa-ad80-cc4e15d84528",
   "metadata": {},
   "source": [
    "Problem Statement:You are provided with a dataset that includes two parameters:\n",
    "> Annual Income (k$) - The yearly income of individuals in thousands of dollars.\n",
    "> Spending Score (1-100) - A measure of customer spending behavior on a scale of 1 to 100.\n",
    "\n",
    "Perform the following tasks:\n",
    "    1. Data Exploration:\n",
    "        1.1. Load the given data containing the Annual Income and Spending Score.\n",
    "        1.2. Visualize the data using a scatter plot to observe the relationship between the two parameters.\n",
    "    2. Linear Regression Model Design:\n",
    "        2.1. Use the linregress() method from the scipy.stats library to compute the linear regression model.\n",
    "        2.2. Extract the following components from the regression analysis:\n",
    "            2.2.1 Slope (m): The rate of change in the Spending Score with respect to Annual Income.\n",
    "            2.2.2 Intercept (c): The Spending Score when Annual Income is 0.\n",
    "            2.2.3 R-value (Coefficient of Determination): A measure of how well the linear model fits the data.\n",
    "            2.2.4 P-value: The significance of the relationship between Annual Income and Spending Score.\n",
    "            2.2.5 Standard Error: The standard deviation of the slope.\n",
    "    3. Model Evaluation:\n",
    "        3.1 Interpret the computed slope and intercept in the context of the problem.\n",
    "        3.2 Explain the significance of the R-value and p-value based on the computed results.\n",
    "        3.3 Comment on the standard error and its impact on the reliability of the model.\n",
    "    4. Prediction:\n",
    "        4.1 Use the computed regression equation to predict Spending Scores for given Annual Income values (e.g., $30k, $70k, $100k).\n",
    "        4.2 Compare the predictions with actual data points.\n",
    "    5. Visualization:\n",
    "        5.1 Plot the regression line along with the data points on a scatter plot.\n",
    "        5.2 Highlight key points such as the predicted values and their actual counterparts."
   ]
  },
  {
   "cell_type": "raw",
   "id": "23d2eb8d-1245-408b-acf2-ad9e709bbff3",
   "metadata": {},
   "source": [
    "1. Data Exploration:"
   ]
  },
  {
   "cell_type": "code",
   "execution_count": 6,
   "id": "a58e5414-e8b5-4a33-8276-a602ee2ec18b",
   "metadata": {},
   "outputs": [
    {
     "name": "stdout",
     "output_type": "stream",
     "text": [
      "<class 'pandas.core.frame.DataFrame'>\n",
      "RangeIndex: 250 entries, 0 to 249\n",
      "Data columns (total 5 columns):\n",
      " #   Column                  Non-Null Count  Dtype \n",
      "---  ------                  --------------  ----- \n",
      " 0   CustomerID              250 non-null    int64 \n",
      " 1   Gender                  250 non-null    object\n",
      " 2   Age                     250 non-null    int64 \n",
      " 3   Annual Income (k$)      250 non-null    int64 \n",
      " 4   Spending Score (1-100)  250 non-null    int64 \n",
      "dtypes: int64(4), object(1)\n",
      "memory usage: 9.9+ KB\n"
     ]
    }
   ],
   "source": [
    "# 1.1. Load the given data containing the 'Annual Income' and 'Spending Score'.\n",
    "path = 'D:\\\\Downloads\\\\'\n",
    "file = 'Mall_Customers.csv'\n",
    "df = pd.read_csv(path + file)\n",
    "df.info()"
   ]
  },
  {
   "cell_type": "code",
   "execution_count": 7,
   "id": "be29d469-eeae-4f95-9544-636a20c713da",
   "metadata": {},
   "outputs": [
    {
     "data": {
      "text/plain": [
       "Index(['CustomerID', 'Gender', 'Age', 'AnnualIncome', 'SpendingScore'], dtype='object')"
      ]
     },
     "execution_count": 7,
     "metadata": {},
     "output_type": "execute_result"
    }
   ],
   "source": [
    "df.columns = ['CustomerID', 'Gender', 'Age', 'AnnualIncome', 'SpendingScore'] ### Rename columns\n",
    "df.columns"
   ]
  },
  {
   "cell_type": "code",
   "execution_count": 8,
   "id": "c62bb9f1-5801-4538-ab8d-5363a7fe32f0",
   "metadata": {},
   "outputs": [
    {
     "data": {
      "image/png": "[encoded data removed]",
      "text/plain": [
       "<Figure size 640x480 with 1 Axes>"
      ]
     },
     "metadata": {},
     "output_type": "display_data"
    }
   ],
   "source": [
    "# 1.2. Visualize the data using a scatter plot to observe the relationship between the two parameters.\n",
    "x = df['AnnualIncome']\n",
    "y = df['SpendingScore']\n",
    "plt.scatter(x, y)\n",
    "plt.show()"
   ]
  },
  {
   "cell_type": "raw",
   "id": "3f502751-bcd2-43db-b911-9b03aa75cba9",
   "metadata": {},
   "source": [
    "2. Linear Regression Model Design:"
   ]
  },
  {
   "cell_type": "code",
   "execution_count": 9,
   "id": "cd53ce71-327d-4e6c-8c77-7a1d839b64bd",
   "metadata": {},
   "outputs": [],
   "source": [
    "# 2.1. Use the linregress() method from the scipy.stats library to compute the linear regression model.\n",
    "slope, intercept, r_value, p_value, std_err = linregress(x, y)"
   ]
  },
  {
   "cell_type": "code",
   "execution_count": 10,
   "id": "f4c15a39-32aa-44bf-88b7-a23e2b95128b",
   "metadata": {},
   "outputs": [
    {
     "name": "stdout",
     "output_type": "stream",
     "text": [
      "Slope: 0.004004132864224445 \n",
      "Intercept: 49.861236931243056 \n",
      "R Value: 0.011343184761743928 \n",
      "P Value: 0.8583629786234614 \n",
      "Standard Error: 0.022414016719240225\n"
     ]
    }
   ],
   "source": [
    "# 2.2. Extract the following components from the regression analysis:\n",
    "# \t2.2.1 Slope (m): The rate of change in the Spending Score with respect to Annual Income.\n",
    "# \t2.2.2 Intercept (c): The Spending Score when Annual Income is 0.\n",
    "# \t2.2.3 R-value (Coefficient of Determination): A measure of how well the linear model fits the data.\n",
    "# \t2.2.4 P-value: The significance of the relationship between Annual Income and Spending Score.\n",
    "# \t2.2.5 Standard Error: The standard deviation of the slope\n",
    "print('Slope:', slope, '\\nIntercept:', intercept, '\\nR Value:', r_value, '\\nP Value:', p_value, '\\nStandard Error:', std_err)"
   ]
  },
  {
   "cell_type": "raw",
   "id": "5141b6f1-03ca-419e-953d-90c78758aa0e",
   "metadata": {},
   "source": [
    "3. Model Evaluation:"
   ]
  },
  {
   "cell_type": "code",
   "execution_count": 11,
   "id": "9e653c68-67a8-4bbe-b8e3-e59c2a4aa6f3",
   "metadata": {},
   "outputs": [
    {
     "name": "stdout",
     "output_type": "stream",
     "text": [
      "Slope value of 0.004004 means that there is a mildly positive correlation between annual income & spending score (measure of customer spending behavior). \n",
      "On average, for every thousands of dollars a customer spends, their spending score marginally increases by 4 percent.\n",
      "\n",
      "Intercept value of 49.861237 indicates the base value of spending score. If there is no annual income, spending score is roughly 50/100\n"
     ]
    }
   ],
   "source": [
    "# 3.1 Interpret the computed slope and intercept in the context of the problem.\n",
    "print(('Slope value of %f means that there is a mildly positive correlation between annual income & spending score (measure of customer spending \\\n",
    "behavior). \\nOn average, for every thousands of dollars a customer spends, their spending score marginally increases by 4 percent.')%(slope))\n",
    "print(('\\nIntercept value of %f indicates the base value of spending score. If there is no annual income, spending score is roughly 50/100')%(intercept))"
   ]
  },
  {
   "cell_type": "code",
   "execution_count": 12,
   "id": "752a284c-5f41-495b-9951-2812b75442b5",
   "metadata": {},
   "outputs": [
    {
     "name": "stdout",
     "output_type": "stream",
     "text": [
      "P-value of 0.858363 is high => model insignificant => change in annual income unrelated to spending score\n",
      "\n",
      "R-value of 0.011343 has low correlation => proportion of variance in annual income can't be explained by the spending score\n"
     ]
    }
   ],
   "source": [
    "# 3.2 Explain the significance of the R-value and p-value based on the computed results.\n",
    "if p_value > 0.05:\n",
    "    print(('P-value of %f is high => model insignificant => change in annual income unrelated to spending score')%(p_value))\n",
    "else:\n",
    "    print(('P-value of %f is low => model significant => change in annual income largely influences spending score')%(p_value))\n",
    "print()\n",
    "if r_value <= -0.7 or r_value >= 0.7:\n",
    "    print(('R-value of %f has high correlation => proportion of variance in annual income can be explained by the spending score')%(r_value))\n",
    "else:\n",
    "    print(('R-value of %f has low correlation => proportion of variance in annual income can\\'t be explained by the spending score')%(r_value))"
   ]
  },
  {
   "cell_type": "code",
   "execution_count": 13,
   "id": "7b056c43-159f-4f6d-a67a-71acfd37a068",
   "metadata": {},
   "outputs": [
    {
     "name": "stdout",
     "output_type": "stream",
     "text": [
      "The standard error of 0.022414 is low; sample data represents actual data closely\n"
     ]
    }
   ],
   "source": [
    "# 3.3 Comment on the standard error and its impact on the reliability of the model.\n",
    "if std_err >= 0.5:\n",
    "    print(('The standard error of %f is high; sample data doesn\\'t represent actual data closely')%(std_err))\n",
    "else:\n",
    "    print(('The standard error of %f is low; sample data represents actual data closely')%(std_err))"
   ]
  },
  {
   "cell_type": "raw",
   "id": "082fc1a6-5c9b-46e0-a692-cb8c9f77d373",
   "metadata": {},
   "source": [
    "4. Prediction:"
   ]
  },
  {
   "cell_type": "code",
   "execution_count": 14,
   "id": "899e6287-c085-4599-803d-a488f18d439d",
   "metadata": {},
   "outputs": [
    {
     "data": {
      "text/html": [
       "<div>\n",
       "<style scoped>\n",
       "    .dataframe tbody tr th:only-of-type {\n",
       "        vertical-align: middle;\n",
       "    }\n",
       "\n",
       "    .dataframe tbody tr th {\n",
       "        vertical-align: top;\n",
       "    }\n",
       "\n",
       "    .dataframe thead th {\n",
       "        text-align: right;\n",
       "    }\n",
       "</style>\n",
       "<table border=\"1\" class=\"dataframe\">\n",
       "  <thead>\n",
       "    <tr style=\"text-align: right;\">\n",
       "      <th></th>\n",
       "      <th>PredictedSpendingScore</th>\n",
       "    </tr>\n",
       "  </thead>\n",
       "  <tbody>\n",
       "    <tr>\n",
       "      <th>176</th>\n",
       "      <td>50.213601</td>\n",
       "    </tr>\n",
       "    <tr>\n",
       "      <th>229</th>\n",
       "      <td>50.886295</td>\n",
       "    </tr>\n",
       "    <tr>\n",
       "      <th>79</th>\n",
       "      <td>50.077460</td>\n",
       "    </tr>\n",
       "    <tr>\n",
       "      <th>221</th>\n",
       "      <td>50.794200</td>\n",
       "    </tr>\n",
       "    <tr>\n",
       "      <th>212</th>\n",
       "      <td>50.638039</td>\n",
       "    </tr>\n",
       "  </tbody>\n",
       "</table>\n",
       "</div>"
      ],
      "text/plain": [
       "     PredictedSpendingScore\n",
       "176               50.213601\n",
       "229               50.886295\n",
       "79                50.077460\n",
       "221               50.794200\n",
       "212               50.638039"
      ]
     },
     "execution_count": 14,
     "metadata": {},
     "output_type": "execute_result"
    }
   ],
   "source": [
    "# 4.1 Use the computed regression equation to predict Spending Scores for given Annual Income values (e.g., $30k, $70k, $100k).\n",
    "predicted_y = slope * x + intercept\n",
    "df['PredictedSpendingScore'] = predicted_y\n",
    "df[['PredictedSpendingScore']].sample(5)"
   ]
  },
  {
   "cell_type": "code",
   "execution_count": 15,
   "id": "37a97664-249d-4a4f-834e-596fa89461e3",
   "metadata": {},
   "outputs": [
    {
     "name": "stdout",
     "output_type": "stream",
     "text": [
      "Annual Income and Predicted vs actual values for spending score:\n",
      "\n"
     ]
    },
    {
     "data": {
      "text/html": [
       "<div>\n",
       "<style scoped>\n",
       "    .dataframe tbody tr th:only-of-type {\n",
       "        vertical-align: middle;\n",
       "    }\n",
       "\n",
       "    .dataframe tbody tr th {\n",
       "        vertical-align: top;\n",
       "    }\n",
       "\n",
       "    .dataframe thead th {\n",
       "        text-align: right;\n",
       "    }\n",
       "</style>\n",
       "<table border=\"1\" class=\"dataframe\">\n",
       "  <thead>\n",
       "    <tr style=\"text-align: right;\">\n",
       "      <th></th>\n",
       "      <th>AnnualIncome</th>\n",
       "      <th>SpendingScore</th>\n",
       "      <th>PredictedSpendingScoreInt</th>\n",
       "    </tr>\n",
       "  </thead>\n",
       "  <tbody>\n",
       "    <tr>\n",
       "      <th>63</th>\n",
       "      <td>47</td>\n",
       "      <td>59</td>\n",
       "      <td>50</td>\n",
       "    </tr>\n",
       "    <tr>\n",
       "      <th>109</th>\n",
       "      <td>63</td>\n",
       "      <td>48</td>\n",
       "      <td>50</td>\n",
       "    </tr>\n",
       "    <tr>\n",
       "      <th>75</th>\n",
       "      <td>54</td>\n",
       "      <td>54</td>\n",
       "      <td>50</td>\n",
       "    </tr>\n",
       "    <tr>\n",
       "      <th>149</th>\n",
       "      <td>78</td>\n",
       "      <td>90</td>\n",
       "      <td>50</td>\n",
       "    </tr>\n",
       "    <tr>\n",
       "      <th>104</th>\n",
       "      <td>62</td>\n",
       "      <td>56</td>\n",
       "      <td>50</td>\n",
       "    </tr>\n",
       "  </tbody>\n",
       "</table>\n",
       "</div>"
      ],
      "text/plain": [
       "     AnnualIncome  SpendingScore  PredictedSpendingScoreInt\n",
       "63             47             59                         50\n",
       "109            63             48                         50\n",
       "75             54             54                         50\n",
       "149            78             90                         50\n",
       "104            62             56                         50"
      ]
     },
     "execution_count": 15,
     "metadata": {},
     "output_type": "execute_result"
    }
   ],
   "source": [
    "# 4.2 Compare the predictions with actual data points.\n",
    "df['PredictedSpendingScoreInt'] = df['PredictedSpendingScore'].round().astype('int64')\n",
    "print('Annual Income and Predicted vs actual values for spending score:\\n')\n",
    "df[['AnnualIncome', 'SpendingScore', 'PredictedSpendingScoreInt']].sample(5)"
   ]
  },
  {
   "cell_type": "raw",
   "id": "2458265b-aba2-468e-83af-029e29721515",
   "metadata": {},
   "source": [
    "Beginning of 'not required code'"
   ]
  },
  {
   "cell_type": "code",
   "execution_count": 16,
   "id": "f2ba5c3d-fe3c-4bf7-b07f-ae193afe6f4e",
   "metadata": {},
   "outputs": [],
   "source": [
    "# y_mean = np.mean(y) ### Mean of actual spending score values\n",
    "# sst = np.sum((y - y_mean) ** 2) ### Difference between actual & predicted values of spending score (residual)\n",
    "# ssr = np.sum((predicted_y - y_mean) ** 2) ### Squares of differences b/w predicted spending score values & mean of actual spending score values\n",
    "# sse = np.sum((y - predicted_y) ** 2) ### Squares of differences b/w actual spending score & predicted spending score\n",
    "# print('Y Mean:', y_mean, '\\nSum of squares total:', sst, '\\nSum of squares regression:', ssr, '\\nSum of squares error:', sse)"
   ]
  },
  {
   "cell_type": "code",
   "execution_count": 17,
   "id": "c0120c18-fcbe-48bf-a492-235a01dee2d0",
   "metadata": {},
   "outputs": [],
   "source": [
    "# ssr/sst ### Checking R-squared value again"
   ]
  },
  {
   "cell_type": "raw",
   "id": "fdd4220d-f755-4d56-b435-10753cb356b3",
   "metadata": {},
   "source": [
    "End of 'not required code'"
   ]
  },
  {
   "cell_type": "raw",
   "id": "a89d6c5a-5409-4a5f-8b80-05df3dce581e",
   "metadata": {},
   "source": [
    "5. Visualization:"
   ]
  },
  {
   "cell_type": "code",
   "execution_count": 29,
   "id": "48bbf311-2912-43c1-86f9-2fd75f2fe78d",
   "metadata": {},
   "outputs": [
    {
     "data": {
      "image/png": "[encoded data removed]",
      "text/plain": [
       "<Figure size 640x480 with 1 Axes>"
      ]
     },
     "metadata": {},
     "output_type": "display_data"
    }
   ],
   "source": [
    "# 5.1 Plot the regression line along with the data points on a scatter plot.\n",
    "x = df['SpendingScore']\n",
    "y = df['PredictedSpendingScoreInt']\n",
    "plt.scatter(x, y)\n",
    "# overlay the regression line\n",
    "z = np.polyfit(x, y, 1)\n",
    "p = np.poly1d(z)\n",
    "plt.plot(x,p(x), color='red')\n",
    "plt.show()"
   ]
  },
  {
   "cell_type": "code",
   "execution_count": 30,
   "id": "054da8fb-e1b4-4318-a8e1-7fce33001b2a",
   "metadata": {},
   "outputs": [
    {
     "name": "stdout",
     "output_type": "stream",
     "text": [
      "SpendingScore\n",
      "75    9\n",
      "42    8\n",
      "13    7\n",
      "55    7\n",
      "46    6\n",
      "Name: count, dtype: int64\n",
      "\n",
      "PredictedSpendingScoreInt\n",
      "50    205\n",
      "51     45\n",
      "Name: count, dtype: int64\n"
     ]
    }
   ],
   "source": [
    "print(df['SpendingScore'].value_counts().head()) # Checking count of distinct values in column 'Spending Score' (y-actual)\n",
    "print()\n",
    "print(df['PredictedSpendingScoreInt'].value_counts()) # Checking count of distinct values in column 'Predicted Spending Score Int' (y-pred)"
   ]
  },
  {
   "cell_type": "code",
   "execution_count": 31,
   "id": "0cf7aade-7c42-45d8-bf94-75277449239e",
   "metadata": {},
   "outputs": [
    {
     "name": "stdout",
     "output_type": "stream",
     "text": [
      "The predicted spending scores are all very similar, distributed between 50 and 51. Stark difference to the actual values which vary way more. Above mentioned graph doesn't make sense\n"
     ]
    }
   ],
   "source": [
    "# 5.2 Highlight key points such as the predicted values and their actual counterparts.\n",
    "print('The predicted spending scores are all very similar, distributed between 50 and 51. Stark difference to the actual values which vary way more. \\\n",
    "Above mentioned graph doesn\\'t make sense')"
   ]
  },
  {
   "cell_type": "code",
   "execution_count": null,
   "id": "55d6e0d5-7933-4d53-88e3-d384bd1dad85",
   "metadata": {},
   "outputs": [],
   "source": []
  }
 ],
 "metadata": {
  "kernelspec": {
   "display_name": "Python 3 (ipykernel)",
   "language": "python",
   "name": "python3"
  },
  "language_info": {
   "codemirror_mode": {
    "name": "ipython",
    "version": 3
   },
   "file_extension": ".py",
   "mimetype": "text/x-python",
   "name": "python",
   "nbconvert_exporter": "python",
   "pygments_lexer": "ipython3",
   "version": "3.12.4"
  }
 },
 "nbformat": 4,
 "nbformat_minor": 5
}
